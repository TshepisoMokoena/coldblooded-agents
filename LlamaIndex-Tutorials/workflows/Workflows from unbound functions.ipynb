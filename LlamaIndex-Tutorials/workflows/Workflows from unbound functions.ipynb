{
 "cells": [
  {
   "cell_type": "markdown",
   "id": "a9b83b46-de63-4ce3-9ae4-86af6b83b28d",
   "metadata": {},
   "source": [
    "# 📢 Disclaimer\n",
    "\n",
    "This notebook contains material copied verbatim from the [LlamaIndex documentation](https://www.llamaindex.ai/)  \n",
    "and was created with the assistance of ChatGPT.  \n",
    "\n",
    "It is intended for educational purposes only.  \n",
    "All copyrights and credits belong to the LlamaIndex team and their respective authors.\n",
    "\n"
   ]
  },
  {
   "cell_type": "markdown",
   "id": "8b0883a8-9bdc-4731-905c-85f69ada1310",
   "metadata": {},
   "source": [
    "# Workflows from unbound functions\n",
    "\n",
    "Throughout this tutorial we have been showing workflows defined as classes. However, this is not the only way to define a workflow: you can also define the steps in your workflow through independent or \"unbound\" functions and assign them to a workflow using the @step() decorator. Let's see how that works."
   ]
  },
  {
   "cell_type": "code",
   "execution_count": 2,
   "id": "b9745d40-6d24-4e5c-9950-812b9bed751e",
   "metadata": {},
   "outputs": [],
   "source": [
    "from llama_index.core.workflow import (\n",
    "    StartEvent,\n",
    "    StopEvent,\n",
    "    Workflow,\n",
    "    step,\n",
    "    Event,\n",
    "    Context,\n",
    ")\n",
    "from llama_index.utils.workflow import draw_all_possible_flows"
   ]
  },
  {
   "cell_type": "code",
   "execution_count": 3,
   "id": "f7023878-73df-4cb7-b27d-fa858c3f573e",
   "metadata": {},
   "outputs": [],
   "source": [
    "class TestWorkflow(Workflow):\n",
    "    pass"
   ]
  },
  {
   "cell_type": "markdown",
   "id": "8bc268b6-454a-4d15-b13d-d1be774121ea",
   "metadata": {},
   "source": [
    "Now we can add steps to the workflow by defining functions and decorating them with the `@step()` decorator"
   ]
  },
  {
   "cell_type": "code",
   "execution_count": null,
   "id": "579927bf-b09b-49f5-8d03-dbe0e5207293",
   "metadata": {},
   "outputs": [],
   "source": [
    "@step(workflow=TestWorkflow)\n",
    "def some_step(ev: StartEvent) -> StopEvent:\n",
    "    return StopEvent()"
   ]
  }
 ],
 "metadata": {
  "kernelspec": {
   "display_name": "Python 3 (ipykernel)",
   "language": "python",
   "name": "python3"
  },
  "language_info": {
   "codemirror_mode": {
    "name": "ipython",
    "version": 3
   },
   "file_extension": ".py",
   "mimetype": "text/x-python",
   "name": "python",
   "nbconvert_exporter": "python",
   "pygments_lexer": "ipython3",
   "version": "3.12.9"
  }
 },
 "nbformat": 4,
 "nbformat_minor": 5
}
