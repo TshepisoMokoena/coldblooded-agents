{
 "cells": [
  {
   "cell_type": "markdown",
   "id": "46df4954-92dc-4e04-883f-e03316594675",
   "metadata": {},
   "source": [
    "# 📢 Disclaimer\n",
    "\n",
    "This notebook contains material copied verbatim from the [LlamaIndex documentation](https://www.llamaindex.ai/)  \n",
    "and was created with the assistance of ChatGPT.  \n",
    "\n",
    "It is intended for educational purposes only.  \n",
    "All copyrights and credits belong to the LlamaIndex team and their respective authors.\n",
    "\n"
   ]
  },
  {
   "cell_type": "markdown",
   "id": "47a19422-c398-4cca-88d6-85a9cbf9b0ec",
   "metadata": {},
   "source": [
    "# Nested workflows\n"
   ]
  },
  {
   "cell_type": "markdown",
   "id": "71847fbc-5dc6-4ac0-b1f1-7579af151677",
   "metadata": {},
   "source": [
    "Another way to extend workflows is to nest additional workflows. It's possible to create explicit slots in existing flows where you can supply an entire additional workflow. For example, let's say we had a query that used an LLM to reflect on the quality of that query. The author might expect that you would want to modify the reflection step, and leave a slot for you to do that."
   ]
  },
  {
   "cell_type": "code",
   "execution_count": 1,
   "id": "68d7adf1-c298-4795-b19e-78398c039bca",
   "metadata": {},
   "outputs": [],
   "source": [
    "from llama_index.core.workflow import (\n",
    "    StartEvent,\n",
    "    StopEvent,\n",
    "    Workflow,\n",
    "    step,\n",
    "    Event,\n",
    "    Context,\n",
    ")\n",
    "from llama_index.utils.workflow import draw_all_possible_flows\n",
    "\n",
    "\n",
    "class Step2Event(Event):\n",
    "    query: str\n",
    "\n",
    "\n",
    "class MainWorkflow(Workflow):\n",
    "    @step\n",
    "    async def start(\n",
    "        self, ctx: Context, ev: StartEvent, reflection_workflow: Workflow\n",
    "    ) -> Step2Event:\n",
    "        print(\"Need to run reflection\")\n",
    "        res = await reflection_workflow.run(query=ev.query)\n",
    "\n",
    "        return Step2Event(query=res)\n",
    "\n",
    "    @step\n",
    "    async def step_two(self, ctx: Context, ev: Step2Event) -> StopEvent:\n",
    "        print(\"Query is \", ev.query)\n",
    "        # do something with the query here\n",
    "        return StopEvent(result=ev.query)"
   ]
  },
  {
   "cell_type": "markdown",
   "id": "47eb71fa-d0bd-4919-a8cc-d35d4de5f741",
   "metadata": {},
   "source": [
    "Now we can run the main workflow by supplying this custom reflection nested flow using the `add_workflows` method, to which we pass an instance of the `ReflectionFlow` class:"
   ]
  },
  {
   "cell_type": "code",
   "execution_count": 2,
   "id": "de348c28-3c6f-45d2-84e7-51f0eed0c6ee",
   "metadata": {},
   "outputs": [],
   "source": [
    "class ReflectionFlow(Workflow):\n",
    "    @step\n",
    "    async def sub_start(self, ctx: Context, ev: StartEvent) -> StopEvent:\n",
    "        print(\"Doing custom reflection\")\n",
    "        return StopEvent(result=\"Improved query\")"
   ]
  },
  {
   "cell_type": "code",
   "execution_count": 3,
   "id": "24f04b46-92d0-47ec-b7c4-ee3cde2a0f52",
   "metadata": {},
   "outputs": [
    {
     "name": "stdout",
     "output_type": "stream",
     "text": [
      "Need to run reflection\n",
      "Doing custom reflection\n",
      "Query is  Improved query\n",
      "Improved query\n"
     ]
    }
   ],
   "source": [
    "w = MainWorkflow(timeout=10, verbose=False)\n",
    "w.add_workflows(reflection_workflow=ReflectionFlow())\n",
    "result = await w.run(query=\"Initial query\")\n",
    "print(result)"
   ]
  },
  {
   "cell_type": "code",
   "execution_count": 4,
   "id": "75f28806-7b7e-4f69-9f2d-2142f87ecdd3",
   "metadata": {},
   "outputs": [
    {
     "name": "stdout",
     "output_type": "stream",
     "text": [
      "Nested_workflows.html\n"
     ]
    },
    {
     "name": "stderr",
     "output_type": "stream",
     "text": [
      "gio: file:///home/tshepiso/workspace/coldblooded-agents/LlamaIndex-Tutorials/workflows/Nested_workflows.html: Failed to find default application for content type ‘text/html’\n"
     ]
    }
   ],
   "source": [
    "draw_all_possible_flows(MainWorkflow, filename=\"Nested_workflows.html\")"
   ]
  },
  {
   "cell_type": "markdown",
   "id": "02c25772-44da-4ed1-913d-d3c106afce03",
   "metadata": {},
   "source": [
    "Note that because the nested flow is a totally different workflow rather than a step, `draw_all_possible_flows` will only draw the flow of `MainWorkflow`."
   ]
  },
  {
   "cell_type": "code",
   "execution_count": 5,
   "id": "8b9b2891-dcc4-4f88-a8bb-97cfbaa7b345",
   "metadata": {},
   "outputs": [
    {
     "data": {
      "text/html": [
       "<html>\n",
       "    <head>\n",
       "        <meta charset=\"utf-8\">\n",
       "        \n",
       "            <script src=\"lib/bindings/utils.js\"></script>\n",
       "            <link rel=\"stylesheet\" href=\"https://cdnjs.cloudflare.com/ajax/libs/vis-network/9.1.2/dist/dist/vis-network.min.css\" integrity=\"sha512-WgxfT5LWjfszlPHXRmBWHkV2eceiWTOBvrKCNbdgDYTHrT2AeLCGbF4sZlZw3UMN3WtL0tGUoIAKsu8mllg/XA==\" crossorigin=\"anonymous\" referrerpolicy=\"no-referrer\" />\n",
       "            <script src=\"https://cdnjs.cloudflare.com/ajax/libs/vis-network/9.1.2/dist/vis-network.min.js\" integrity=\"sha512-LnvoEWDFrqGHlHmDD2101OrLcbsfkrzoSpvtSQtxK3RMnRV0eOkhhBN2dXHKRrUU8p2DGRTk35n4O8nWSVe1mQ==\" crossorigin=\"anonymous\" referrerpolicy=\"no-referrer\"></script>\n",
       "            \n",
       "        \n",
       "<center>\n",
       "<h1></h1>\n",
       "</center>\n",
       "\n",
       "<!-- <link rel=\"stylesheet\" href=\"../node_modules/vis/dist/vis.min.css\" type=\"text/css\" />\n",
       "<script type=\"text/javascript\" src=\"../node_modules/vis/dist/vis.js\"> </script>-->\n",
       "        <link\n",
       "          href=\"https://cdn.jsdelivr.net/npm/bootstrap@5.0.0-beta3/dist/css/bootstrap.min.css\"\n",
       "          rel=\"stylesheet\"\n",
       "          integrity=\"sha384-eOJMYsd53ii+scO/bJGFsiCZc+5NDVN2yr8+0RDqr0Ql0h+rP48ckxlpbzKgwra6\"\n",
       "          crossorigin=\"anonymous\"\n",
       "        />\n",
       "        <script\n",
       "          src=\"https://cdn.jsdelivr.net/npm/bootstrap@5.0.0-beta3/dist/js/bootstrap.bundle.min.js\"\n",
       "          integrity=\"sha384-JEW9xMcG8R+pH31jmWH6WWP0WintQrMb4s7ZOdauHnUtxwoG2vI5DkLtS3qm9Ekf\"\n",
       "          crossorigin=\"anonymous\"\n",
       "        ></script>\n",
       "\n",
       "\n",
       "        <center>\n",
       "          <h1></h1>\n",
       "        </center>\n",
       "        <style type=\"text/css\">\n",
       "\n",
       "             #mynetwork {\n",
       "                 width: 100%;\n",
       "                 height: 750px;\n",
       "                 background-color: #ffffff;\n",
       "                 border: 1px solid lightgray;\n",
       "                 position: relative;\n",
       "                 float: left;\n",
       "             }\n",
       "\n",
       "             \n",
       "\n",
       "             \n",
       "\n",
       "             \n",
       "        </style>\n",
       "    </head>\n",
       "\n",
       "\n",
       "    <body>\n",
       "        <div class=\"card\" style=\"width: 100%\">\n",
       "            \n",
       "            \n",
       "            <div id=\"mynetwork\" class=\"card-body\"></div>\n",
       "        </div>\n",
       "\n",
       "        \n",
       "        \n",
       "\n",
       "        <script type=\"text/javascript\">\n",
       "\n",
       "              // initialize global variables.\n",
       "              var edges;\n",
       "              var nodes;\n",
       "              var allNodes;\n",
       "              var allEdges;\n",
       "              var nodeColors;\n",
       "              var originalNodes;\n",
       "              var network;\n",
       "              var container;\n",
       "              var options, data;\n",
       "              var filter = {\n",
       "                  item : '',\n",
       "                  property : '',\n",
       "                  value : []\n",
       "              };\n",
       "\n",
       "              \n",
       "\n",
       "              \n",
       "\n",
       "              // This method is responsible for drawing the graph, returns the drawn network\n",
       "              function drawGraph() {\n",
       "                  var container = document.getElementById('mynetwork');\n",
       "\n",
       "                  \n",
       "\n",
       "                  // parsing and collecting nodes and edges from the python\n",
       "                  nodes = new vis.DataSet([{\"color\": \"#ADD8E6\", \"id\": \"_done\", \"label\": \"_done\", \"shape\": \"box\"}, {\"color\": \"#90EE90\", \"id\": \"StopEvent\", \"label\": \"StopEvent\", \"shape\": \"ellipse\"}, {\"color\": \"#ADD8E6\", \"id\": \"start\", \"label\": \"start\", \"shape\": \"box\"}, {\"color\": \"#E27AFF\", \"id\": \"StartEvent\", \"label\": \"StartEvent\", \"shape\": \"ellipse\"}, {\"color\": \"#90EE90\", \"id\": \"Step2Event\", \"label\": \"Step2Event\", \"shape\": \"ellipse\"}, {\"color\": \"#ADD8E6\", \"id\": \"step_two\", \"label\": \"step_two\", \"shape\": \"box\"}]);\n",
       "                  edges = new vis.DataSet([{\"arrows\": \"to\", \"from\": \"StopEvent\", \"to\": \"_done\"}, {\"arrows\": \"to\", \"from\": \"start\", \"to\": \"Step2Event\"}, {\"arrows\": \"to\", \"from\": \"StartEvent\", \"to\": \"start\"}, {\"arrows\": \"to\", \"from\": \"step_two\", \"to\": \"StopEvent\"}, {\"arrows\": \"to\", \"from\": \"Step2Event\", \"to\": \"step_two\"}]);\n",
       "\n",
       "                  nodeColors = {};\n",
       "                  allNodes = nodes.get({ returnType: \"Object\" });\n",
       "                  for (nodeId in allNodes) {\n",
       "                    nodeColors[nodeId] = allNodes[nodeId].color;\n",
       "                  }\n",
       "                  allEdges = edges.get({ returnType: \"Object\" });\n",
       "                  // adding nodes and edges to the graph\n",
       "                  data = {nodes: nodes, edges: edges};\n",
       "\n",
       "                  var options = {\n",
       "    \"configure\": {\n",
       "        \"enabled\": false\n",
       "    },\n",
       "    \"edges\": {\n",
       "        \"color\": {\n",
       "            \"inherit\": true\n",
       "        },\n",
       "        \"smooth\": {\n",
       "            \"enabled\": true,\n",
       "            \"type\": \"dynamic\"\n",
       "        }\n",
       "    },\n",
       "    \"interaction\": {\n",
       "        \"dragNodes\": true,\n",
       "        \"hideEdgesOnDrag\": false,\n",
       "        \"hideNodesOnDrag\": false\n",
       "    },\n",
       "    \"physics\": {\n",
       "        \"enabled\": true,\n",
       "        \"stabilization\": {\n",
       "            \"enabled\": true,\n",
       "            \"fit\": true,\n",
       "            \"iterations\": 1000,\n",
       "            \"onlyDynamicEdges\": false,\n",
       "            \"updateInterval\": 50\n",
       "        }\n",
       "    }\n",
       "};\n",
       "\n",
       "                  \n",
       "\n",
       "\n",
       "                  \n",
       "\n",
       "                  network = new vis.Network(container, data, options);\n",
       "\n",
       "                  \n",
       "\n",
       "                  \n",
       "\n",
       "                  \n",
       "\n",
       "\n",
       "                  \n",
       "\n",
       "                  return network;\n",
       "\n",
       "              }\n",
       "              drawGraph();\n",
       "        </script>\n",
       "    </body>\n",
       "</html>"
      ],
      "text/plain": [
       "<IPython.core.display.HTML object>"
      ]
     },
     "metadata": {},
     "output_type": "display_data"
    }
   ],
   "source": [
    "from IPython.display import HTML, display\n",
    "display(HTML(open('Nested_workflows.html', encoding='utf-8').read()))"
   ]
  },
  {
   "cell_type": "markdown",
   "id": "81e746e1-c7cb-40bb-9450-56ab42fff9e5",
   "metadata": {},
   "source": [
    "# Default workflows\n",
    "\n",
    "If you're creating a workflow with multiple slots for nested workflows, you might want to provide default workflows for each slot. You can do this by setting the default value of the slot to an instance of the workflow class. Here's an example."
   ]
  },
  {
   "cell_type": "code",
   "execution_count": 6,
   "id": "e689b56d-9c19-466d-a52c-67cd21f64fd4",
   "metadata": {},
   "outputs": [],
   "source": [
    "class DefaultSubflow(Workflow):\n",
    "    @step()\n",
    "    async def sub_start(self, ctx: Context, ev: StartEvent) -> StopEvent:\n",
    "        print(\"Doing basic reflection\")\n",
    "        return StopEvent(result=\"Improved query\")"
   ]
  },
  {
   "cell_type": "code",
   "execution_count": 9,
   "id": "af2dad27-66df-4a8a-b888-1f012b99f205",
   "metadata": {},
   "outputs": [],
   "source": [
    "class Step2Event(Event):\n",
    "    query: str\n",
    "\n",
    "\n",
    "class MainWorkflow(Workflow):\n",
    "    @step\n",
    "    async def start(\n",
    "        self, ctx: Context, ev: StartEvent, reflection_workflow: Workflow = DefaultSubflow()\n",
    "    ) -> Step2Event:\n",
    "        print(\"Need to run reflection\")\n",
    "        res = await reflection_workflow.run(query=ev.query)\n",
    "\n",
    "        return Step2Event(query=res)\n",
    "\n",
    "    @step\n",
    "    async def step_two(self, ctx: Context, ev: Step2Event) -> StopEvent:\n",
    "        print(\"Query is \", ev.query)\n",
    "        # do something with the query here\n",
    "        return StopEvent(result=ev.query)"
   ]
  },
  {
   "cell_type": "code",
   "execution_count": 10,
   "id": "c56f8c5d-ad14-41d1-9c68-95debb602475",
   "metadata": {},
   "outputs": [
    {
     "name": "stdout",
     "output_type": "stream",
     "text": [
      "Need to run reflection\n",
      "Doing basic reflection\n",
      "Query is  Improved query\n",
      "Improved query\n"
     ]
    }
   ],
   "source": [
    "w = MainWorkflow(timeout=10, verbose=False)\n",
    "result = await w.run(query=\"Initial query\")\n",
    "print(result)"
   ]
  },
  {
   "cell_type": "markdown",
   "id": "0e733896-da86-46a6-b04b-d3788532e55c",
   "metadata": {},
   "source": [
    "Now, if you run the workflow without providing a custom reflection workflow, it will use the default one. This can be very useful for providing a good \"out of the box\" experience for users who may not want to customize everything."
   ]
  }
 ],
 "metadata": {
  "kernelspec": {
   "display_name": "Python 3 (ipykernel)",
   "language": "python",
   "name": "python3"
  },
  "language_info": {
   "codemirror_mode": {
    "name": "ipython",
    "version": 3
   },
   "file_extension": ".py",
   "mimetype": "text/x-python",
   "name": "python",
   "nbconvert_exporter": "python",
   "pygments_lexer": "ipython3",
   "version": "3.12.9"
  }
 },
 "nbformat": 4,
 "nbformat_minor": 5
}
